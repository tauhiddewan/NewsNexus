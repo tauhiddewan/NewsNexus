{
 "cells": [
  {
   "cell_type": "code",
   "execution_count": null,
   "metadata": {},
   "outputs": [],
   "source": []
  }
 ],
 "metadata": {
  "kernelspec": {
   "display_name": "Python 3.10.6 ('ns': venv)",
   "language": "python",
   "name": "python3"
  },
  "language_info": {
   "name": "python",
   "version": "3.10.6"
  },
  "orig_nbformat": 4,
  "vscode": {
   "interpreter": {
    "hash": "1f9a532638f24ee05558e72cc2f5b884955f90e4c7fd471fe60169328d56d39a"
   }
  }
 },
 "nbformat": 4,
 "nbformat_minor": 2
}
