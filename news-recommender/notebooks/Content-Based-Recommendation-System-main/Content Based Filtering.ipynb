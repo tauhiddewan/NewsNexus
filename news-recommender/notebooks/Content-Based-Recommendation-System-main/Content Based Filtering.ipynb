{
 "cells": [
  {
   "cell_type": "markdown",
   "metadata": {},
   "source": [
    "# Content Based Recommendation System (Recommending similar posts for given post)"
   ]
  },
  {
   "cell_type": "code",
   "execution_count": 1,
   "metadata": {},
   "outputs": [],
   "source": [
    "import pandas as pd\n",
    "\n",
    "from sklearn.feature_extraction.text import TfidfVectorizer, CountVectorizer\n",
    "from sklearn.metrics.pairwise import linear_kernel, cosine_similarity\n",
    "import matplotlib.pylab as plt\n",
    "import scipy.sparse as sparse\n",
    "\n",
    "import warnings\n",
    "warnings.filterwarnings(\"ignore\")"
   ]
  },
  {
   "cell_type": "code",
   "execution_count": 2,
   "metadata": {},
   "outputs": [
    {
     "name": "stdout",
     "output_type": "stream",
     "text": [
      "                        _id                          title  \\\n",
      "0  5d62abaa65218653a132c956                    hello there   \n",
      "1  5d6d39567fa40e1417a4931c                      Ml and AI   \n",
      "2  5d7d23315720533e15c3b1ee  What is an Operating System ?   \n",
      "3  5d7d405e5720533e15c3b1f3                     Lord Shiva   \n",
      "4  5d80dfbc6c53455f896e600e   How Competition law evolved?   \n",
      "\n",
      "                                            category  post_type  \n",
      "0                                Plant Biotechnology       blog  \n",
      "1  Artificial Intelligence|Machine Learning|Infor...       blog  \n",
      "2                                  Operating Systems       blog  \n",
      "3                                           Drawings    artwork  \n",
      "4                                   Competition Laws       blog  \n",
      "                        _id                  name gender      academics\n",
      "0  5d60098a653a331687083238  Nivesh Singh Chauhan   male  undergraduate\n",
      "1  5d610ae1653a331687083239         Gaurav Sharma   male       graduate\n",
      "2  5d618359fc5fcf3bdd9a0910         Akshay Mishra   male  undergraduate\n",
      "3  5d6d2bb87fa40e1417a49315        Saksham Mathur   male  undergraduate\n",
      "4  5d7c994d5720533e15c3b1e9         Varun Chowhan   male  undergraduate\n",
      "                    user_id                   post_id  \\\n",
      "0  5df49b32cc709107827fb3c7  5ec821ddec493f4a2655889e   \n",
      "1  5ed3748576027d35905ccaab  5ed4cbadbd514d602c1531a6   \n",
      "2  5ed0defa76027d35905cc2de  5eac305f10426255a7aa9dd3   \n",
      "3  5ed0defa76027d35905cc2de  5ed1ff0276027d35905cc60d   \n",
      "4  5ed0defa76027d35905cc2de  5ed3820f76027d35905ccac8   \n",
      "\n",
      "                  timestamp  \n",
      "0  2020-06-01T10:46:45.131Z  \n",
      "1  2020-06-01T09:39:20.021Z  \n",
      "2  2020-06-01T08:12:42.682Z  \n",
      "3  2020-06-01T08:10:23.880Z  \n",
      "4  2020-06-01T08:08:54.124Z  \n"
     ]
    }
   ],
   "source": [
    "df_posts = pd.read_csv('raw/posts.csv')\n",
    "df_users = pd.read_csv('raw/users.csv')\n",
    "df_views = pd.read_csv('raw/views.csv')\n",
    "print(df_posts.head())\n",
    "print(df_users.head())\n",
    "print(df_views.head())"
   ]
  },
  {
   "cell_type": "code",
   "execution_count": 3,
   "metadata": {},
   "outputs": [
    {
     "name": "stdout",
     "output_type": "stream",
     "text": [
      "                    post_id                          title  \\\n",
      "0  5d62abaa65218653a132c956                    hello there   \n",
      "1  5d6d39567fa40e1417a4931c                      Ml and AI   \n",
      "2  5d7d23315720533e15c3b1ee  What is an Operating System ?   \n",
      "3  5d7d405e5720533e15c3b1f3                     Lord Shiva   \n",
      "4  5d80dfbc6c53455f896e600e   How Competition law evolved?   \n",
      "\n",
      "                                            category post_type  \n",
      "0                                Plant Biotechnology      blog  \n",
      "1  Artificial Intelligence|Machine Learning|Infor...      blog  \n",
      "2                                  Operating Systems      blog  \n",
      "3                                           Drawings   artwork  \n",
      "4                                   Competition Laws      blog  \n",
      "                    user_id                  name gender      academics\n",
      "0  5d60098a653a331687083238  Nivesh Singh Chauhan   male  undergraduate\n",
      "1  5d610ae1653a331687083239         Gaurav Sharma   male       graduate\n",
      "2  5d618359fc5fcf3bdd9a0910         Akshay Mishra   male  undergraduate\n",
      "3  5d6d2bb87fa40e1417a49315        Saksham Mathur   male  undergraduate\n",
      "4  5d7c994d5720533e15c3b1e9         Varun Chowhan   male  undergraduate\n"
     ]
    }
   ],
   "source": [
    "df_posts.rename(columns={'_id': 'post_id', ' post_type': 'post_type'}, inplace=True)\n",
    "df_users.rename(columns={'_id': 'user_id'}, inplace=True)\n",
    "df_posts.category = df_posts.category.fillna('')\n",
    "print(df_posts.head())\n",
    "print(df_users.head())"
   ]
  },
  {
   "cell_type": "code",
   "execution_count": 4,
   "metadata": {
    "scrolled": true
   },
   "outputs": [
    {
     "data": {
      "text/html": [
       "<div>\n",
       "<style scoped>\n",
       "    .dataframe tbody tr th:only-of-type {\n",
       "        vertical-align: middle;\n",
       "    }\n",
       "\n",
       "    .dataframe tbody tr th {\n",
       "        vertical-align: top;\n",
       "    }\n",
       "\n",
       "    .dataframe thead th {\n",
       "        text-align: right;\n",
       "    }\n",
       "</style>\n",
       "<table border=\"1\" class=\"dataframe\">\n",
       "  <thead>\n",
       "    <tr style=\"text-align: right;\">\n",
       "      <th></th>\n",
       "      <th>user_id</th>\n",
       "      <th>post_id</th>\n",
       "      <th>timestamp</th>\n",
       "      <th>name</th>\n",
       "      <th>gender</th>\n",
       "      <th>academics</th>\n",
       "      <th>title</th>\n",
       "      <th>category</th>\n",
       "      <th>post_type</th>\n",
       "    </tr>\n",
       "  </thead>\n",
       "  <tbody>\n",
       "    <tr>\n",
       "      <th>0</th>\n",
       "      <td>5df49b32cc709107827fb3c7</td>\n",
       "      <td>5ec821ddec493f4a2655889e</td>\n",
       "      <td>2020-06-01T10:46:45.131Z</td>\n",
       "      <td>Niriksha Sharma</td>\n",
       "      <td>female</td>\n",
       "      <td>undergraduate</td>\n",
       "      <td>Save Earth.</td>\n",
       "      <td>Visual Arts|Graphic Design|Artistic design|Gra...</td>\n",
       "      <td>artwork</td>\n",
       "    </tr>\n",
       "    <tr>\n",
       "      <th>1</th>\n",
       "      <td>5d7c994d5720533e15c3b1e9</td>\n",
       "      <td>5ec821ddec493f4a2655889e</td>\n",
       "      <td>2020-05-22T20:11:32.317Z</td>\n",
       "      <td>Varun Chowhan</td>\n",
       "      <td>male</td>\n",
       "      <td>undergraduate</td>\n",
       "      <td>Save Earth.</td>\n",
       "      <td>Visual Arts|Graphic Design|Artistic design|Gra...</td>\n",
       "      <td>artwork</td>\n",
       "    </tr>\n",
       "    <tr>\n",
       "      <th>2</th>\n",
       "      <td>5e5af599d701ab08af792b63</td>\n",
       "      <td>5ec821ddec493f4a2655889e</td>\n",
       "      <td>2020-05-22T20:01:37.309Z</td>\n",
       "      <td>Ilupeju Ayokunnumi</td>\n",
       "      <td>female</td>\n",
       "      <td>graduate</td>\n",
       "      <td>Save Earth.</td>\n",
       "      <td>Visual Arts|Graphic Design|Artistic design|Gra...</td>\n",
       "      <td>artwork</td>\n",
       "    </tr>\n",
       "    <tr>\n",
       "      <th>3</th>\n",
       "      <td>5de50d768eab6401affbb135</td>\n",
       "      <td>5ec821ddec493f4a2655889e</td>\n",
       "      <td>2020-05-22T20:10:41.100Z</td>\n",
       "      <td>thesocialcomment</td>\n",
       "      <td>male</td>\n",
       "      <td>graduate</td>\n",
       "      <td>Save Earth.</td>\n",
       "      <td>Visual Arts|Graphic Design|Artistic design|Gra...</td>\n",
       "      <td>artwork</td>\n",
       "    </tr>\n",
       "    <tr>\n",
       "      <th>4</th>\n",
       "      <td>5deeef6142a8854bf6eabab9</td>\n",
       "      <td>5ec821ddec493f4a2655889e</td>\n",
       "      <td>2020-05-22T20:08:45.061Z</td>\n",
       "      <td>siddharth saxena</td>\n",
       "      <td>male</td>\n",
       "      <td>undergraduate</td>\n",
       "      <td>Save Earth.</td>\n",
       "      <td>Visual Arts|Graphic Design|Artistic design|Gra...</td>\n",
       "      <td>artwork</td>\n",
       "    </tr>\n",
       "  </tbody>\n",
       "</table>\n",
       "</div>"
      ],
      "text/plain": [
       "                    user_id                   post_id  \\\n",
       "0  5df49b32cc709107827fb3c7  5ec821ddec493f4a2655889e   \n",
       "1  5d7c994d5720533e15c3b1e9  5ec821ddec493f4a2655889e   \n",
       "2  5e5af599d701ab08af792b63  5ec821ddec493f4a2655889e   \n",
       "3  5de50d768eab6401affbb135  5ec821ddec493f4a2655889e   \n",
       "4  5deeef6142a8854bf6eabab9  5ec821ddec493f4a2655889e   \n",
       "\n",
       "                  timestamp                name  gender      academics  \\\n",
       "0  2020-06-01T10:46:45.131Z     Niriksha Sharma  female  undergraduate   \n",
       "1  2020-05-22T20:11:32.317Z       Varun Chowhan    male  undergraduate   \n",
       "2  2020-05-22T20:01:37.309Z  Ilupeju Ayokunnumi  female       graduate   \n",
       "3  2020-05-22T20:10:41.100Z    thesocialcomment    male       graduate   \n",
       "4  2020-05-22T20:08:45.061Z    siddharth saxena    male  undergraduate   \n",
       "\n",
       "         title                                           category post_type  \n",
       "0  Save Earth.  Visual Arts|Graphic Design|Artistic design|Gra...   artwork  \n",
       "1  Save Earth.  Visual Arts|Graphic Design|Artistic design|Gra...   artwork  \n",
       "2  Save Earth.  Visual Arts|Graphic Design|Artistic design|Gra...   artwork  \n",
       "3  Save Earth.  Visual Arts|Graphic Design|Artistic design|Gra...   artwork  \n",
       "4  Save Earth.  Visual Arts|Graphic Design|Artistic design|Gra...   artwork  "
      ]
     },
     "execution_count": 4,
     "metadata": {},
     "output_type": "execute_result"
    }
   ],
   "source": [
    "# merging users table with views using user id as key\n",
    "df_merged = pd.merge(df_views, df_users, on='user_id')\n",
    "# merging posts table with newly created merged table using post id as key\n",
    "df_merged = pd.merge(df_merged, df_posts, on='post_id')\n",
    "df_merged.head()"
   ]
  },
  {
   "cell_type": "code",
   "execution_count": 5,
   "metadata": {},
   "outputs": [
    {
     "data": {
      "text/html": [
       "<div>\n",
       "<style scoped>\n",
       "    .dataframe tbody tr th:only-of-type {\n",
       "        vertical-align: middle;\n",
       "    }\n",
       "\n",
       "    .dataframe tbody tr th {\n",
       "        vertical-align: top;\n",
       "    }\n",
       "\n",
       "    .dataframe thead th {\n",
       "        text-align: right;\n",
       "    }\n",
       "</style>\n",
       "<table border=\"1\" class=\"dataframe\">\n",
       "  <thead>\n",
       "    <tr style=\"text-align: right;\">\n",
       "      <th></th>\n",
       "      <th>user_id</th>\n",
       "      <th>post_id</th>\n",
       "      <th>name</th>\n",
       "      <th>gender</th>\n",
       "      <th>academics</th>\n",
       "      <th>title</th>\n",
       "      <th>category</th>\n",
       "      <th>post_type</th>\n",
       "    </tr>\n",
       "  </thead>\n",
       "  <tbody>\n",
       "    <tr>\n",
       "      <th>0</th>\n",
       "      <td>5df49b32cc709107827fb3c7</td>\n",
       "      <td>5ec821ddec493f4a2655889e</td>\n",
       "      <td>Niriksha Sharma</td>\n",
       "      <td>female</td>\n",
       "      <td>undergraduate</td>\n",
       "      <td>Save Earth.</td>\n",
       "      <td>Visual Arts|Graphic Design|Artistic design|Gra...</td>\n",
       "      <td>artwork</td>\n",
       "    </tr>\n",
       "    <tr>\n",
       "      <th>1</th>\n",
       "      <td>5d7c994d5720533e15c3b1e9</td>\n",
       "      <td>5ec821ddec493f4a2655889e</td>\n",
       "      <td>Varun Chowhan</td>\n",
       "      <td>male</td>\n",
       "      <td>undergraduate</td>\n",
       "      <td>Save Earth.</td>\n",
       "      <td>Visual Arts|Graphic Design|Artistic design|Gra...</td>\n",
       "      <td>artwork</td>\n",
       "    </tr>\n",
       "    <tr>\n",
       "      <th>2</th>\n",
       "      <td>5e5af599d701ab08af792b63</td>\n",
       "      <td>5ec821ddec493f4a2655889e</td>\n",
       "      <td>Ilupeju Ayokunnumi</td>\n",
       "      <td>female</td>\n",
       "      <td>graduate</td>\n",
       "      <td>Save Earth.</td>\n",
       "      <td>Visual Arts|Graphic Design|Artistic design|Gra...</td>\n",
       "      <td>artwork</td>\n",
       "    </tr>\n",
       "    <tr>\n",
       "      <th>3</th>\n",
       "      <td>5de50d768eab6401affbb135</td>\n",
       "      <td>5ec821ddec493f4a2655889e</td>\n",
       "      <td>thesocialcomment</td>\n",
       "      <td>male</td>\n",
       "      <td>graduate</td>\n",
       "      <td>Save Earth.</td>\n",
       "      <td>Visual Arts|Graphic Design|Artistic design|Gra...</td>\n",
       "      <td>artwork</td>\n",
       "    </tr>\n",
       "    <tr>\n",
       "      <th>4</th>\n",
       "      <td>5deeef6142a8854bf6eabab9</td>\n",
       "      <td>5ec821ddec493f4a2655889e</td>\n",
       "      <td>siddharth saxena</td>\n",
       "      <td>male</td>\n",
       "      <td>undergraduate</td>\n",
       "      <td>Save Earth.</td>\n",
       "      <td>Visual Arts|Graphic Design|Artistic design|Gra...</td>\n",
       "      <td>artwork</td>\n",
       "    </tr>\n",
       "  </tbody>\n",
       "</table>\n",
       "</div>"
      ],
      "text/plain": [
       "                    user_id                   post_id                name  \\\n",
       "0  5df49b32cc709107827fb3c7  5ec821ddec493f4a2655889e     Niriksha Sharma   \n",
       "1  5d7c994d5720533e15c3b1e9  5ec821ddec493f4a2655889e       Varun Chowhan   \n",
       "2  5e5af599d701ab08af792b63  5ec821ddec493f4a2655889e  Ilupeju Ayokunnumi   \n",
       "3  5de50d768eab6401affbb135  5ec821ddec493f4a2655889e    thesocialcomment   \n",
       "4  5deeef6142a8854bf6eabab9  5ec821ddec493f4a2655889e    siddharth saxena   \n",
       "\n",
       "   gender      academics        title  \\\n",
       "0  female  undergraduate  Save Earth.   \n",
       "1    male  undergraduate  Save Earth.   \n",
       "2  female       graduate  Save Earth.   \n",
       "3    male       graduate  Save Earth.   \n",
       "4    male  undergraduate  Save Earth.   \n",
       "\n",
       "                                            category post_type  \n",
       "0  Visual Arts|Graphic Design|Artistic design|Gra...   artwork  \n",
       "1  Visual Arts|Graphic Design|Artistic design|Gra...   artwork  \n",
       "2  Visual Arts|Graphic Design|Artistic design|Gra...   artwork  \n",
       "3  Visual Arts|Graphic Design|Artistic design|Gra...   artwork  \n",
       "4  Visual Arts|Graphic Design|Artistic design|Gra...   artwork  "
      ]
     },
     "execution_count": 5,
     "metadata": {},
     "output_type": "execute_result"
    }
   ],
   "source": [
    "df_merged.drop(columns='timestamp', inplace=True)\n",
    "df_merged.head()"
   ]
  },
  {
   "cell_type": "code",
   "execution_count": 6,
   "metadata": {},
   "outputs": [
    {
     "name": "stdout",
     "output_type": "stream",
     "text": [
      "Dataframe shape (1447, 8)\n",
      "Dataframe columns {'post_type', 'academics', 'name', 'category', 'post_id', 'user_id', 'gender', 'title'}\n"
     ]
    }
   ],
   "source": [
    "print(f\"Dataframe shape {df_merged.shape}\")\n",
    "print(f\"Dataframe columns {set(df_merged.columns)}\")"
   ]
  },
  {
   "cell_type": "code",
   "execution_count": 7,
   "metadata": {},
   "outputs": [],
   "source": [
    "tf = TfidfVectorizer(analyzer='word', ngram_range=(1, 2), min_df=0, stop_words='english')"
   ]
  },
  {
   "cell_type": "code",
   "execution_count": 8,
   "metadata": {},
   "outputs": [
    {
     "data": {
      "text/plain": [
       "<matplotlib.lines.Line2D at 0x7fc8a83cde20>"
      ]
     },
     "execution_count": 8,
     "metadata": {},
     "output_type": "execute_result"
    },
    {
     "data": {
      "image/png": "[encoded data removed]",
      "text/plain": [
       "<Figure size 432x288 with 1 Axes>"
      ]
     },
     "metadata": {
      "needs_background": "light"
     },
     "output_type": "display_data"
    }
   ],
   "source": [
    "tf_matrix1 = tf.fit_transform(df_posts['title'])\n",
    "plt.spy(tf_matrix1)"
   ]
  },
  {
   "cell_type": "code",
   "execution_count": 9,
   "metadata": {
    "scrolled": true
   },
   "outputs": [
    {
     "data": {
      "text/plain": [
       "<matplotlib.lines.Line2D at 0x7fc8996450a0>"
      ]
     },
     "execution_count": 9,
     "metadata": {},
     "output_type": "execute_result"
    },
    {
     "data": {
      "image/png": "[encoded data removed]",
      "text/plain": [
       "<Figure size 432x288 with 1 Axes>"
      ]
     },
     "metadata": {
      "needs_background": "light"
     },
     "output_type": "display_data"
    }
   ],
   "source": [
    "tf_matrix2 = tf.fit_transform(df_posts['category'])\n",
    "plt.spy(tf_matrix2)"
   ]
  },
  {
   "cell_type": "code",
   "execution_count": 10,
   "metadata": {},
   "outputs": [],
   "source": [
    "# tf_matrix3 = tf.fit_transform(df_posts['post_type'])\n",
    "# plt.spy(tf_matrix3)"
   ]
  },
  {
   "cell_type": "code",
   "execution_count": 11,
   "metadata": {},
   "outputs": [],
   "source": [
    "# establishing relation between posts using post title, category and type\n",
    "tf = TfidfVectorizer(analyzer='word', ngram_range=(1, 2), min_df=0, stop_words='english')\n",
    "tf_matrix1 = tf.fit_transform(df_posts['title'])\n",
    "tf_matrix2 = tf.fit_transform(df_posts['category'])\n",
    "# tf_matrix3 = tf.fit_transform(df_posts['post_type'])\n",
    "\n",
    "csm1 = linear_kernel(tf_matrix1, tf_matrix1)\n",
    "csm2 = linear_kernel(tf_matrix2, tf_matrix2)\n",
    "# csm3 = linear_kernel(tf_matrix3, tf_matrix3)\n",
    "csm_tf = (csm1 + csm2)/3"
   ]
  },
  {
   "cell_type": "code",
   "execution_count": 12,
   "metadata": {},
   "outputs": [
    {
     "data": {
      "text/plain": [
       "(493, 493)"
      ]
     },
     "execution_count": 12,
     "metadata": {},
     "output_type": "execute_result"
    }
   ],
   "source": [
    "csm_tf.shape"
   ]
  },
  {
   "cell_type": "code",
   "execution_count": 13,
   "metadata": {},
   "outputs": [],
   "source": [
    "def cleanData(x):\n",
    "    if isinstance(x, list):\n",
    "        return str.lower(x)\n",
    "    else:\n",
    "        if isinstance(x, str):\n",
    "            return str.lower(x)\n",
    "        else:\n",
    "            return ''\n",
    "        \n",
    "def combine(x):\n",
    "    # new columns for algo application and to prevent affecting the original data     \n",
    "    return x['title1'] + ' ' + x['category1']\n",
    "\n",
    "features = ['title', 'category']\n",
    "\n",
    "for feature in features:\n",
    "    df_posts[feature + '1'] = df_posts[feature].apply(cleanData)\n",
    "\n",
    "df_posts['merged'] = df_posts.apply(combine, axis=1)\n",
    "# df_posts.head()\n",
    "\n",
    "count = CountVectorizer(stop_words='english')\n",
    "count_matrix = count.fit_transform(df_posts['merged'])\n",
    "csm_count = cosine_similarity(count_matrix, count_matrix)\n",
    "# delete the new columns as processing is done on the merged column\n",
    "df_posts.drop(columns=['title1', 'category1', 'merged'], inplace=True)\n",
    "df_posts.drop(columns='post_id', inplace=True)"
   ]
  },
  {
   "cell_type": "code",
   "execution_count": 14,
   "metadata": {},
   "outputs": [],
   "source": [
    "# recommmendation function\n",
    "indices = pd.Series(df_posts.index, index=df_posts.title)\n",
    "\n",
    "# first we pass csm in the function definition without giving any value. Later, when the function is called, it will be checked for different values of csm for which the function gives the best results.\n",
    "# That value of csm will then be passed in the function definition, so that csm value isn't needed to be given while calling the function.\n",
    "\n",
    "# earlier\n",
    "# def recommend(post, csm):\n",
    "# later\n",
    "def recommend(post, csm=(csm_tf + csm_count)/2):        # choosing this csm as it covers both aspects\n",
    "    idx = indices[post]\n",
    "    score_series = list(enumerate(csm[idx]))\n",
    "    score_series = sorted(score_series, key=lambda x: x[1], reverse=True)\n",
    "    score_series = score_series[1:11]   # not recommending the original post itself, starting from 1\n",
    "    post_indices = [i[0] for i in score_series]\n",
    "    return df_posts.loc[post_indices].style.hide_index()"
   ]
  },
  {
   "cell_type": "code",
   "execution_count": 15,
   "metadata": {},
   "outputs": [
    {
     "name": "stdout",
     "output_type": "stream",
     "text": [
      "[[0.66666667 0.         0.         ... 0.         0.         0.        ]\n",
      " [0.         0.66666667 0.         ... 0.         0.0230504  0.0759607 ]\n",
      " [0.         0.         0.66666667 ... 0.         0.         0.        ]\n",
      " ...\n",
      " [0.         0.         0.         ... 0.33333333 0.         0.        ]\n",
      " [0.         0.0230504  0.         ... 0.         0.66666667 0.05353237]\n",
      " [0.         0.0759607  0.         ... 0.         0.05353237 0.66666667]]\n",
      "[[1.         0.         0.         ... 0.         0.         0.        ]\n",
      " [0.         1.         0.         ... 0.         0.26726124 0.25      ]\n",
      " [0.         0.         1.         ... 0.         0.         0.        ]\n",
      " ...\n",
      " [0.         0.         0.         ... 1.         0.         0.        ]\n",
      " [0.         0.26726124 0.         ... 0.         1.         0.17817416]\n",
      " [0.         0.25       0.         ... 0.         0.17817416 1.        ]]\n",
      "[[0.83333333 0.         0.         ... 0.         0.         0.        ]\n",
      " [0.         0.83333333 0.         ... 0.         0.14515582 0.16298035]\n",
      " [0.         0.         0.83333333 ... 0.         0.         0.        ]\n",
      " ...\n",
      " [0.         0.         0.         ... 0.66666667 0.         0.        ]\n",
      " [0.         0.14515582 0.         ... 0.         0.83333333 0.11585326]\n",
      " [0.         0.16298035 0.         ... 0.         0.11585326 0.83333333]]\n"
     ]
    }
   ],
   "source": [
    "print(csm_tf)\n",
    "print(csm_count)\n",
    "print((csm_tf + csm_count)/2)"
   ]
  },
  {
   "cell_type": "markdown",
   "metadata": {},
   "source": [
    "### Final recommendation"
   ]
  },
  {
   "cell_type": "code",
   "execution_count": 16,
   "metadata": {},
   "outputs": [
    {
     "data": {
      "text/html": [
       "<style  type=\"text/css\" >\n",
       "</style><table id=\"T_eb52ed4a_2306_11eb_b2d0_acde48001122\" ><thead>    <tr>        <th class=\"col_heading level0 col0\" >title</th>        <th class=\"col_heading level0 col1\" >category</th>        <th class=\"col_heading level0 col2\" >post_type</th>    </tr></thead><tbody>\n",
       "                <tr>\n",
       "                                <td id=\"T_eb52ed4a_2306_11eb_b2d0_acde48001122row0_col0\" class=\"data row0 col0\" >7 Best Python Data Science Courses & Certification [2020]</td>\n",
       "                        <td id=\"T_eb52ed4a_2306_11eb_b2d0_acde48001122row0_col1\" class=\"data row0 col1\" >Computer Technology|Machine Learning</td>\n",
       "                        <td id=\"T_eb52ed4a_2306_11eb_b2d0_acde48001122row0_col2\" class=\"data row0 col2\" >blog</td>\n",
       "            </tr>\n",
       "            <tr>\n",
       "                                <td id=\"T_eb52ed4a_2306_11eb_b2d0_acde48001122row1_col0\" class=\"data row1 col0\" >Learning...</td>\n",
       "                        <td id=\"T_eb52ed4a_2306_11eb_b2d0_acde48001122row1_col1\" class=\"data row1 col1\" >Computer Technology|Machine Learning</td>\n",
       "                        <td id=\"T_eb52ed4a_2306_11eb_b2d0_acde48001122row1_col2\" class=\"data row1 col2\" >blog</td>\n",
       "            </tr>\n",
       "            <tr>\n",
       "                                <td id=\"T_eb52ed4a_2306_11eb_b2d0_acde48001122row2_col0\" class=\"data row2 col0\" >GAN's Part(2)</td>\n",
       "                        <td id=\"T_eb52ed4a_2306_11eb_b2d0_acde48001122row2_col1\" class=\"data row2 col1\" >Computer Technology|Machine Learning</td>\n",
       "                        <td id=\"T_eb52ed4a_2306_11eb_b2d0_acde48001122row2_col2\" class=\"data row2 col2\" >blog</td>\n",
       "            </tr>\n",
       "            <tr>\n",
       "                                <td id=\"T_eb52ed4a_2306_11eb_b2d0_acde48001122row3_col0\" class=\"data row3 col0\" >Machine Learning”&“Operations\" (MlOps)</td>\n",
       "                        <td id=\"T_eb52ed4a_2306_11eb_b2d0_acde48001122row3_col1\" class=\"data row3 col1\" >Computer Technology|Machine Learning</td>\n",
       "                        <td id=\"T_eb52ed4a_2306_11eb_b2d0_acde48001122row3_col2\" class=\"data row3 col2\" >blog</td>\n",
       "            </tr>\n",
       "            <tr>\n",
       "                                <td id=\"T_eb52ed4a_2306_11eb_b2d0_acde48001122row4_col0\" class=\"data row4 col0\" >Recommend Systems Machine Learning</td>\n",
       "                        <td id=\"T_eb52ed4a_2306_11eb_b2d0_acde48001122row4_col1\" class=\"data row4 col1\" >Computer Technology|Machine Learning</td>\n",
       "                        <td id=\"T_eb52ed4a_2306_11eb_b2d0_acde48001122row4_col2\" class=\"data row4 col2\" >blog</td>\n",
       "            </tr>\n",
       "            <tr>\n",
       "                                <td id=\"T_eb52ed4a_2306_11eb_b2d0_acde48001122row5_col0\" class=\"data row5 col0\" >8 Best Machine Learning Courses for 2020</td>\n",
       "                        <td id=\"T_eb52ed4a_2306_11eb_b2d0_acde48001122row5_col1\" class=\"data row5 col1\" >Computer Technology|Cloud Computing|Artificial Intelligence|Information Technology|Programming languages</td>\n",
       "                        <td id=\"T_eb52ed4a_2306_11eb_b2d0_acde48001122row5_col2\" class=\"data row5 col2\" >blog</td>\n",
       "            </tr>\n",
       "            <tr>\n",
       "                                <td id=\"T_eb52ed4a_2306_11eb_b2d0_acde48001122row6_col0\" class=\"data row6 col0\" >GAN's INTRODUCTION</td>\n",
       "                        <td id=\"T_eb52ed4a_2306_11eb_b2d0_acde48001122row6_col1\" class=\"data row6 col1\" >Computer Technology|Machine Learning</td>\n",
       "                        <td id=\"T_eb52ed4a_2306_11eb_b2d0_acde48001122row6_col2\" class=\"data row6 col2\" >blog</td>\n",
       "            </tr>\n",
       "            <tr>\n",
       "                                <td id=\"T_eb52ed4a_2306_11eb_b2d0_acde48001122row7_col0\" class=\"data row7 col0\" >Ml and AI</td>\n",
       "                        <td id=\"T_eb52ed4a_2306_11eb_b2d0_acde48001122row7_col1\" class=\"data row7 col1\" >Artificial Intelligence|Machine Learning|Information Technology</td>\n",
       "                        <td id=\"T_eb52ed4a_2306_11eb_b2d0_acde48001122row7_col2\" class=\"data row7 col2\" >blog</td>\n",
       "            </tr>\n",
       "            <tr>\n",
       "                                <td id=\"T_eb52ed4a_2306_11eb_b2d0_acde48001122row8_col0\" class=\"data row8 col0\" >Artificial Intelligence</td>\n",
       "                        <td id=\"T_eb52ed4a_2306_11eb_b2d0_acde48001122row8_col1\" class=\"data row8 col1\" >Computer Technology|Artificial Intelligence</td>\n",
       "                        <td id=\"T_eb52ed4a_2306_11eb_b2d0_acde48001122row8_col2\" class=\"data row8 col2\" >blog</td>\n",
       "            </tr>\n",
       "            <tr>\n",
       "                                <td id=\"T_eb52ed4a_2306_11eb_b2d0_acde48001122row9_col0\" class=\"data row9 col0\" >Types Of AI.</td>\n",
       "                        <td id=\"T_eb52ed4a_2306_11eb_b2d0_acde48001122row9_col1\" class=\"data row9 col1\" >Computer Technology|Artificial Intelligence</td>\n",
       "                        <td id=\"T_eb52ed4a_2306_11eb_b2d0_acde48001122row9_col2\" class=\"data row9 col2\" >blog</td>\n",
       "            </tr>\n",
       "    </tbody></table>"
      ],
      "text/plain": [
       "<pandas.io.formats.style.Styler at 0x7fc87942bfd0>"
      ]
     },
     "execution_count": 16,
     "metadata": {},
     "output_type": "execute_result"
    }
   ],
   "source": [
    "recommend('10 Best Artificial Intelligence (AI) Courses Online for 2020')"
   ]
  },
  {
   "cell_type": "code",
   "execution_count": null,
   "metadata": {},
   "outputs": [],
   "source": []
  },
  {
   "cell_type": "code",
   "execution_count": 17,
   "metadata": {},
   "outputs": [
    {
     "name": "stdout",
     "output_type": "stream",
     "text": [
      "['and', 'document', 'first', 'is', 'one', 'second', 'the', 'third', 'this']\n",
      "(4, 9)\n"
     ]
    }
   ],
   "source": [
    "from sklearn.feature_extraction.text import TfidfVectorizer\n",
    "corpus = [\n",
    "    'This is the first document.',\n",
    "    'This document is the second document.',\n",
    "    'And this is the third one.',\n",
    "    'Is this the first document?',\n",
    "]\n",
    "vectorizer = TfidfVectorizer()\n",
    "X = vectorizer.fit_transform(corpus)\n",
    "print(vectorizer.get_feature_names())\n",
    "\n",
    "print(X.shape)"
   ]
  },
  {
   "cell_type": "code",
   "execution_count": 18,
   "metadata": {},
   "outputs": [
    {
     "data": {
      "text/plain": [
       "TfidfVectorizer()"
      ]
     },
     "execution_count": 18,
     "metadata": {},
     "output_type": "execute_result"
    }
   ],
   "source": [
    "vectorizer"
   ]
  },
  {
   "cell_type": "code",
   "execution_count": 19,
   "metadata": {},
   "outputs": [
    {
     "data": {
      "text/plain": [
       "<4x9 sparse matrix of type '<class 'numpy.float64'>'\n",
       "\twith 21 stored elements in Compressed Sparse Row format>"
      ]
     },
     "execution_count": 19,
     "metadata": {},
     "output_type": "execute_result"
    }
   ],
   "source": [
    "X"
   ]
  },
  {
   "cell_type": "code",
   "execution_count": 20,
   "metadata": {},
   "outputs": [
    {
     "data": {
      "text/plain": [
       "<matplotlib.lines.Line2D at 0x7fc8684ac160>"
      ]
     },
     "execution_count": 20,
     "metadata": {},
     "output_type": "execute_result"
    },
    {
     "data": {
      "image/png": "[encoded data removed]",
      "text/plain": [
       "<Figure size 432x288 with 1 Axes>"
      ]
     },
     "metadata": {
      "needs_background": "light"
     },
     "output_type": "display_data"
    }
   ],
   "source": [
    "import matplotlib.pylab as plt\n",
    "import scipy.sparse as sparse\n",
    "plt.spy(X)"
   ]
  },
  {
   "cell_type": "code",
   "execution_count": null,
   "metadata": {},
   "outputs": [],
   "source": []
  }
 ],
 "metadata": {
  "kernelspec": {
   "display_name": "Python 3",
   "language": "python",
   "name": "python3"
  },
  "language_info": {
   "codemirror_mode": {
    "name": "ipython",
    "version": 3
   },
   "file_extension": ".py",
   "mimetype": "text/x-python",
   "name": "python",
   "nbconvert_exporter": "python",
   "pygments_lexer": "ipython3",
   "version": "3.8.3"
  }
 },
 "nbformat": 4,
 "nbformat_minor": 4
}
